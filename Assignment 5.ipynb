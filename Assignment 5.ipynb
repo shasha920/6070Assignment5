{
 "cells": [
  {
   "cell_type": "markdown",
   "metadata": {},
   "source": [
    "# GBA 6070 - Programming Foundation for Business Analytics\n",
    "# Dr. Mohammad Salehan\n",
    "# Assignment 5: Lists"
   ]
  },
  {
   "cell_type": "markdown",
   "metadata": {},
   "source": [
    "1. Write a function called nested_sum that takes a list of lists of integers and adds up the elements from all of the nested lists. For example for t = [[1, 2], [3], [4, 5, 6]], nested_sum(t) should return  21."
   ]
  },
  {
   "cell_type": "code",
   "execution_count": 12,
   "metadata": {},
   "outputs": [
    {
     "data": {
      "text/plain": [
       "21"
      ]
     },
     "execution_count": 12,
     "metadata": {},
     "output_type": "execute_result"
    }
   ],
   "source": [
    "def nested_sum(a):\n",
    "    total=0\n",
    "    for i in (a):\n",
    "        if isinstance(i, list):\n",
    "            total +=nested_sum(i)\n",
    "        else:\n",
    "            total += i\n",
    "    return total\n",
    "t = [[1, 2], [3], [4, 5, 6]]\n",
    "nested_sum(t)\n",
    "\n"
   ]
  },
  {
   "cell_type": "markdown",
   "metadata": {},
   "source": [
    "2. Write a function called cumsum that takes a list of numbers and returns the cumulative sum; that is, a new list where the ith element is the sum of the first i + 1 elements from the original list. For example for t = [1, 2, 3], cumsum(t) should return [1, 3, 6]."
   ]
  },
  {
   "cell_type": "code",
   "execution_count": 28,
   "metadata": {},
   "outputs": [
    {
     "data": {
      "text/plain": [
       "[1, 3, 6]"
      ]
     },
     "execution_count": 28,
     "metadata": {},
     "output_type": "execute_result"
    }
   ],
   "source": [
    "def cumsum(b):\n",
    "    c=[]\n",
    "    total1=0\n",
    "    for i in (b):\n",
    "        total1+=i\n",
    "        c.append(total1)\n",
    "    return c\n",
    "t = [1, 2, 3]\n",
    "cumsum(t)\n",
    "    "
   ]
  },
  {
   "cell_type": "markdown",
   "metadata": {},
   "source": [
    "3. Write a function called middle that takes a list and returns a new list that contains all but the first and last elements. For example for t = [1, 2, 3, 4], middle(t) should return [2, 3]."
   ]
  },
  {
   "cell_type": "code",
   "execution_count": 41,
   "metadata": {},
   "outputs": [
    {
     "data": {
      "text/plain": [
       "[2, 3]"
      ]
     },
     "execution_count": 41,
     "metadata": {},
     "output_type": "execute_result"
    }
   ],
   "source": [
    "def middle(a):   \n",
    "    return a[1:-1]\n",
    "t = [1, 2, 3, 4]\n",
    "middle(t)             \n",
    "              "
   ]
  },
  {
   "cell_type": "markdown",
   "metadata": {},
   "source": [
    "4. Write a function called is_sorted that takes a list as a parameter and returns True\n",
    "if the list is sorted in ascending order and False otherwise. For example, is_sorted([1, 2, 2]) should return True\n",
    "and is_sorted(['b', 'a']) should return False.<br>\n",
    "Tip: you can compare string the same way you compare number. For example 'a'>'b' is True and 'b'>'a' is False."
   ]
  },
  {
   "cell_type": "code",
   "execution_count": 42,
   "metadata": {},
   "outputs": [
    {
     "name": "stdout",
     "output_type": "stream",
     "text": [
      "False\n",
      "True\n"
     ]
    }
   ],
   "source": [
    "#example\n",
    "print('a'>'b')\n",
    "print('b'>'a')"
   ]
  },
  {
   "cell_type": "code",
   "execution_count": 74,
   "metadata": {},
   "outputs": [
    {
     "data": {
      "text/plain": [
       "False"
      ]
     },
     "execution_count": 74,
     "metadata": {},
     "output_type": "execute_result"
    }
   ],
   "source": [
    "def is_sorted(e):\n",
    "    for i in range(1,len(e)):\n",
    "        if e[i-1]>e[i]:\n",
    "            return False\n",
    "    return True   \n",
    "t=['b', 'a']      \n",
    "is_sorted(t)"
   ]
  },
  {
   "cell_type": "markdown",
   "metadata": {},
   "source": [
    "5. Write a function called has_duplicates that takes a list and returns True if there is any element that appears more than once. It should not modify the original list.<br>\n",
    "Tip: check out list.index(x). It returns zero-based index in the list of the first item whose value is equal to x. it raises a ValueError if there is no such item."
   ]
  },
  {
   "cell_type": "code",
   "execution_count": 81,
   "metadata": {},
   "outputs": [
    {
     "data": {
      "text/plain": [
       "2"
      ]
     },
     "execution_count": 81,
     "metadata": {},
     "output_type": "execute_result"
    }
   ],
   "source": [
    "x = ['a', 'b', 'c', 'd', 'e']\n",
    "x.index('c')"
   ]
  },
  {
   "cell_type": "code",
   "execution_count": 78,
   "metadata": {},
   "outputs": [
    {
     "ename": "ValueError",
     "evalue": "'f' is not in list",
     "output_type": "error",
     "traceback": [
      "\u001b[0;31m---------------------------------------------------------------------------\u001b[0m",
      "\u001b[0;31mValueError\u001b[0m                                Traceback (most recent call last)",
      "Input \u001b[0;32mIn [78]\u001b[0m, in \u001b[0;36m<cell line: 1>\u001b[0;34m()\u001b[0m\n\u001b[0;32m----> 1\u001b[0m \u001b[43mx\u001b[49m\u001b[38;5;241;43m.\u001b[39;49m\u001b[43mindex\u001b[49m\u001b[43m(\u001b[49m\u001b[38;5;124;43m'\u001b[39;49m\u001b[38;5;124;43mf\u001b[39;49m\u001b[38;5;124;43m'\u001b[39;49m\u001b[43m)\u001b[49m\n",
      "\u001b[0;31mValueError\u001b[0m: 'f' is not in list"
     ]
    }
   ],
   "source": [
    "x.index('f')"
   ]
  },
  {
   "cell_type": "code",
   "execution_count": 88,
   "metadata": {},
   "outputs": [
    {
     "data": {
      "text/plain": [
       "True"
      ]
     },
     "execution_count": 88,
     "metadata": {},
     "output_type": "execute_result"
    }
   ],
   "source": [
    "def has_duplicates(a):\n",
    "    return len(set(a))!=len(a)\n",
    "t=[1,2,2,3,4,4]\n",
    "has_duplicates(t)\n",
    "\n",
    "            "
   ]
  },
  {
   "cell_type": "markdown",
   "metadata": {},
   "source": [
    "6. Write a function that calculates the median value of a list of numbers. In a sorted list, the median is the middle element if the number of elements is odd, otherwise it would be the average of the 2 middle elements. For example, the median of [1,2,3,4,5] is 3 and the median for [1,2,3,4,5,6] is the avergae of 3 and 4 which is 3.5. Note that the input list may not be necessarily sorted so you need to sort it first.<br> Optional: The functions should not sort the original list. Instead, work with a sorted copy."
   ]
  },
  {
   "cell_type": "code",
   "execution_count": 110,
   "metadata": {},
   "outputs": [
    {
     "data": {
      "text/plain": [
       "3.5"
      ]
     },
     "execution_count": 110,
     "metadata": {},
     "output_type": "execute_result"
    }
   ],
   "source": [
    "def is_middle(a):\n",
    "    a.sort()\n",
    "    if len(a)%2!=0:\n",
    "        middle=a[(len(a)-1)//2]\n",
    "    else:\n",
    "        middle=(a[int(len(a)/2)]+a[int(len(a)/2-1)])/2\n",
    "    return middle\n",
    "t= [1,2,3,7,4,5]\n",
    "is_middle(t)\n"
   ]
  },
  {
   "cell_type": "markdown",
   "metadata": {},
   "source": [
    "7. Write a function called chop that takes a list, modifies it by removing the first and last elements, and returns None. For example, for t = [1, 2, 3, 4], after calling chop(t), t would be [2, 3]. Please note that the function does not return anything. Instead, it modifies the object passed to it as parameter."
   ]
  },
  {
   "cell_type": "code",
   "execution_count": 119,
   "metadata": {},
   "outputs": [
    {
     "name": "stdout",
     "output_type": "stream",
     "text": [
      "[2, 3]\n",
      "None\n"
     ]
    }
   ],
   "source": [
    "def chop(a):\n",
    "    del a[0]\n",
    "    del a[-1]\n",
    "t=[1, 2, 3, 4]\n",
    "chop(t)\n",
    "print(t)\n",
    "print(chop(t))\n"
   ]
  },
  {
   "cell_type": "code",
   "execution_count": null,
   "metadata": {},
   "outputs": [],
   "source": []
  },
  {
   "cell_type": "code",
   "execution_count": null,
   "metadata": {},
   "outputs": [],
   "source": []
  }
 ],
 "metadata": {
  "kernelspec": {
   "display_name": "Python 3 (ipykernel)",
   "language": "python",
   "name": "python3"
  },
  "language_info": {
   "codemirror_mode": {
    "name": "ipython",
    "version": 3
   },
   "file_extension": ".py",
   "mimetype": "text/x-python",
   "name": "python",
   "nbconvert_exporter": "python",
   "pygments_lexer": "ipython3",
   "version": "3.9.12"
  }
 },
 "nbformat": 4,
 "nbformat_minor": 4
}
